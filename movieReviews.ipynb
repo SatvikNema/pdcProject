{
 "cells": [
  {
   "cell_type": "code",
   "execution_count": 1,
   "metadata": {},
   "outputs": [
    {
     "name": "stderr",
     "output_type": "stream",
     "text": [
      "Using TensorFlow backend.\n"
     ]
    }
   ],
   "source": [
    "from __future__ import absolute_import, division, print_function, unicode_literals\n",
    "import tensorflow as tf\n",
    "from tensorflow import keras\n",
    "import numpy as np\n",
    "import matplotlib.pyplot as plt\n",
    "import time\n",
    "from keras.backend import tensorflow_backend as K\n",
    "from keras.datasets import imdb"
   ]
  },
  {
   "cell_type": "code",
   "execution_count": 2,
   "metadata": {},
   "outputs": [
    {
     "name": "stdout",
     "output_type": "stream",
     "text": [
      "2.0.0\n"
     ]
    }
   ],
   "source": [
    "print(tf.__version__)"
   ]
  },
  {
   "cell_type": "code",
   "execution_count": 3,
   "metadata": {},
   "outputs": [],
   "source": [
    "np_load_old = np.load\n",
    "\n",
    "# Using a pickled file instead, because the imdb dataset, if imported using the normal keras's methods, fails to load\n",
    "np.load = lambda *a,**k: np_load_old(*a, allow_pickle=True, **k)\n",
    "\n",
    "# load a chunk of the dataset\n",
    "(train_data, train_labels), (test_data, test_labels) = imdb.load_data(num_words=10000)\n",
    "\n",
    "# Not compulsory to use - restore np.load for future normal usage\n",
    "np.load = np_load_old"
   ]
  },
  {
   "cell_type": "code",
   "execution_count": 5,
   "metadata": {},
   "outputs": [
    {
     "data": {
      "text/plain": [
       "numpy.ndarray"
      ]
     },
     "execution_count": 5,
     "metadata": {},
     "output_type": "execute_result"
    }
   ],
   "source": [
    "type(train_data)"
   ]
  },
  {
   "cell_type": "code",
   "execution_count": 6,
   "metadata": {},
   "outputs": [
    {
     "name": "stdout",
     "output_type": "stream",
     "text": [
      "[1, 14, 22, 16, 43, 530, 973, 1622, 1385, 65, 458, 4468, 66, 3941, 4, 173, 36, 256, 5, 25, 100, 43, 838, 112, 50, 670, 2, 9, 35, 480, 284, 5, 150, 4, 172, 112, 167, 2, 336, 385, 39, 4, 172, 4536, 1111, 17, 546, 38, 13, 447, 4, 192, 50, 16, 6, 147, 2025, 19, 14, 22, 4, 1920, 4613, 469, 4, 22, 71, 87, 12, 16, 43, 530, 38, 76, 15, 13, 1247, 4, 22, 17, 515, 17, 12, 16, 626, 18, 2, 5, 62, 386, 12, 8, 316, 8, 106, 5, 4, 2223, 5244, 16, 480, 66, 3785, 33, 4, 130, 12, 16, 38, 619, 5, 25, 124, 51, 36, 135, 48, 25, 1415, 33, 6, 22, 12, 215, 28, 77, 52, 5, 14, 407, 16, 82, 2, 8, 4, 107, 117, 5952, 15, 256, 4, 2, 7, 3766, 5, 723, 36, 71, 43, 530, 476, 26, 400, 317, 46, 7, 4, 2, 1029, 13, 104, 88, 4, 381, 15, 297, 98, 32, 2071, 56, 26, 141, 6, 194, 7486, 18, 4, 226, 22, 21, 134, 476, 26, 480, 5, 144, 30, 5535, 18, 51, 36, 28, 224, 92, 25, 104, 4, 226, 65, 16, 38, 1334, 88, 12, 16, 283, 5, 16, 4472, 113, 103, 32, 15, 16, 5345, 19, 178, 32]\n"
     ]
    }
   ],
   "source": [
    "#Example of how the raw data is fed into the Neural Network (offcourse the preprocessing is left out)\n",
    "print(train_data[0])"
   ]
  },
  {
   "cell_type": "code",
   "execution_count": 5,
   "metadata": {},
   "outputs": [],
   "source": [
    "# A dictionary mapping words to an integer index. It has around 99,000 eneteries which represents each word in the dictionary\n",
    "word_index = imdb.get_word_index()\n",
    "\n",
    "# For some unique characters and types, the first 4 indexes and shifted accordingly\n",
    "word_index = {k:(v+3) for k,v in word_index.items()}\n",
    "word_index[\"<PAD>\"] = 0\n",
    "word_index[\"<START>\"] = 1\n",
    "word_index[\"<UNK>\"] = 2  \n",
    "word_index[\"<UNUSED>\"] = 3\n",
    "\n",
    "#vocabulary count used for the movie reviews (10,000 words), for each review\n",
    "vocab_size = 10000"
   ]
  },
  {
   "cell_type": "code",
   "execution_count": 6,
   "metadata": {},
   "outputs": [],
   "source": [
    "# Making a funciton to convert the numericals (as above shown) to the correspinding the review in english\n",
    "reverse_word_index = dict([(value, key) for (key, value) in word_index.items()])\n",
    "def decode_review(text):\n",
    "    return ' '.join([reverse_word_index.get(i, '?') for i in text])"
   ]
  },
  {
   "cell_type": "code",
   "execution_count": 7,
   "metadata": {},
   "outputs": [],
   "source": [
    "# This is cell was ran after doing the preprocessing. If you execute this before it, you wont get the oadded zeros padding on the left\n",
    "test_data[0]\n",
    "\n",
    "# Directly taken from the tensorflow.org, for pre-processing\n",
    "#Padding 0s to the right of each input, making sure it is 256 digits long.\n",
    "train_data = keras.preprocessing.sequence.pad_sequences(train_data, value=word_index[\"<PAD>\"],padding='post', maxlen=256)"
   ]
  },
  {
   "cell_type": "code",
   "execution_count": 8,
   "metadata": {},
   "outputs": [
    {
     "name": "stdout",
     "output_type": "stream",
     "text": [
      "Model: \"sequential\"\n",
      "_________________________________________________________________\n",
      "Layer (type)                 Output Shape              Param #   \n",
      "=================================================================\n",
      "embedding (Embedding)        (None, None, 16)          160000    \n",
      "_________________________________________________________________\n",
      "global_average_pooling1d (Gl (None, 16)                0         \n",
      "_________________________________________________________________\n",
      "dense (Dense)                (None, 16)                272       \n",
      "_________________________________________________________________\n",
      "dense_1 (Dense)              (None, 1)                 17        \n",
      "=================================================================\n",
      "Total params: 160,289\n",
      "Trainable params: 160,289\n",
      "Non-trainable params: 0\n",
      "_________________________________________________________________\n"
     ]
    }
   ],
   "source": [
    "#Doing the same padding for the testing data too\n",
    "test_data = keras.preprocessing.sequence.pad_sequences(test_data,value=word_index[\"<PAD>\"],padding='post',maxlen=256)\n",
    "\n",
    "#Making the model as defined in tensorflow.org---\n",
    "#Description is given in the report\n",
    "model = keras.Sequential()\n",
    "model.add(keras.layers.Embedding(vocab_size, 16))\n",
    "model.add(keras.layers.GlobalAveragePooling1D())\n",
    "model.add(keras.layers.Dense(16, activation=tf.nn.relu))\n",
    "model.add(keras.layers.Dense(1, activation=tf.nn.sigmoid))\n",
    "\n",
    "#Compiling the model using binary cross entropy (as always used in classification problems)\n",
    "model.compile(optimizer='adam', loss='binary_crossentropy', metrics=['acc'])\n",
    "\n",
    "model.summary()"
   ]
  },
  {
   "cell_type": "code",
   "execution_count": 9,
   "metadata": {},
   "outputs": [
    {
     "name": "stdout",
     "output_type": "stream",
     "text": [
      "Train on 15000 samples, validate on 10000 samples\n",
      "Epoch 1/50\n",
      "15000/15000 [==============================] - 4s 285us/sample - loss: 0.6916 - acc: 0.6143 - val_loss: 0.6892 - val_acc: 0.6841\n",
      "Epoch 2/50\n",
      "15000/15000 [==============================] - 1s 86us/sample - loss: 0.6842 - acc: 0.7203 - val_loss: 0.6785 - val_acc: 0.7256\n",
      "Epoch 3/50\n",
      "15000/15000 [==============================] - 1s 76us/sample - loss: 0.6679 - acc: 0.7617 - val_loss: 0.6580 - val_acc: 0.7514\n",
      "Epoch 4/50\n",
      "15000/15000 [==============================] - 1s 84us/sample - loss: 0.6394 - acc: 0.7741 - val_loss: 0.6259 - val_acc: 0.7747\n",
      "Epoch 5/50\n",
      "15000/15000 [==============================] - 1s 77us/sample - loss: 0.5985 - acc: 0.7952 - val_loss: 0.5852 - val_acc: 0.7931\n",
      "Epoch 6/50\n",
      "15000/15000 [==============================] - 1s 78us/sample - loss: 0.5496 - acc: 0.8211 - val_loss: 0.5396 - val_acc: 0.8115\n",
      "Epoch 7/50\n",
      "15000/15000 [==============================] - 1s 77us/sample - loss: 0.4986 - acc: 0.8377 - val_loss: 0.4922 - val_acc: 0.8281\n",
      "Epoch 8/50\n",
      "15000/15000 [==============================] - 1s 77us/sample - loss: 0.4495 - acc: 0.8569 - val_loss: 0.4510 - val_acc: 0.8417\n",
      "Epoch 9/50\n",
      "15000/15000 [==============================] - 1s 77us/sample - loss: 0.4063 - acc: 0.8705 - val_loss: 0.4166 - val_acc: 0.8504\n",
      "Epoch 10/50\n",
      "15000/15000 [==============================] - 1s 86us/sample - loss: 0.3702 - acc: 0.8805 - val_loss: 0.3888 - val_acc: 0.8560\n",
      "Epoch 11/50\n",
      "15000/15000 [==============================] - 1s 94us/sample - loss: 0.3404 - acc: 0.8866 - val_loss: 0.3672 - val_acc: 0.8635\n",
      "Epoch 12/50\n",
      "15000/15000 [==============================] - 1s 87us/sample - loss: 0.3148 - acc: 0.8945 - val_loss: 0.3501 - val_acc: 0.8670\n",
      "Epoch 13/50\n",
      "15000/15000 [==============================] - 1s 86us/sample - loss: 0.2936 - acc: 0.9001 - val_loss: 0.3361 - val_acc: 0.8717\n",
      "Epoch 14/50\n",
      "15000/15000 [==============================] - 1s 76us/sample - loss: 0.2745 - acc: 0.9061 - val_loss: 0.3250 - val_acc: 0.8742\n",
      "Epoch 15/50\n",
      "15000/15000 [==============================] - 1s 76us/sample - loss: 0.2584 - acc: 0.9109 - val_loss: 0.3178 - val_acc: 0.8737\n",
      "Epoch 16/50\n",
      "15000/15000 [==============================] - 1s 77us/sample - loss: 0.2443 - acc: 0.9155 - val_loss: 0.3090 - val_acc: 0.8778\n",
      "Epoch 17/50\n",
      "15000/15000 [==============================] - 1s 77us/sample - loss: 0.2323 - acc: 0.9191 - val_loss: 0.3043 - val_acc: 0.8795\n",
      "Epoch 18/50\n",
      "15000/15000 [==============================] - 1s 77us/sample - loss: 0.2196 - acc: 0.9243 - val_loss: 0.2979 - val_acc: 0.8821\n",
      "Epoch 19/50\n",
      "15000/15000 [==============================] - 1s 77us/sample - loss: 0.2083 - acc: 0.9295 - val_loss: 0.2944 - val_acc: 0.8820\n",
      "Epoch 20/50\n",
      "15000/15000 [==============================] - 1s 78us/sample - loss: 0.1983 - acc: 0.9329 - val_loss: 0.2926 - val_acc: 0.8825\n",
      "Epoch 21/50\n",
      "15000/15000 [==============================] - 1s 77us/sample - loss: 0.1892 - acc: 0.9369 - val_loss: 0.2888 - val_acc: 0.8847\n",
      "Epoch 22/50\n",
      "15000/15000 [==============================] - 1s 92us/sample - loss: 0.1804 - acc: 0.9415 - val_loss: 0.2872 - val_acc: 0.8846\n",
      "Epoch 23/50\n",
      "15000/15000 [==============================] - 1s 90us/sample - loss: 0.1722 - acc: 0.9453 - val_loss: 0.2865 - val_acc: 0.8850\n",
      "Epoch 24/50\n",
      "15000/15000 [==============================] - 1s 77us/sample - loss: 0.1647 - acc: 0.9481 - val_loss: 0.2856 - val_acc: 0.8848\n",
      "Epoch 25/50\n",
      "15000/15000 [==============================] - 1s 92us/sample - loss: 0.1582 - acc: 0.9516 - val_loss: 0.2853 - val_acc: 0.8855\n",
      "Epoch 26/50\n",
      "15000/15000 [==============================] - 1s 82us/sample - loss: 0.1511 - acc: 0.9537 - val_loss: 0.2855 - val_acc: 0.8859\n",
      "Epoch 27/50\n",
      "15000/15000 [==============================] - 1s 91us/sample - loss: 0.1443 - acc: 0.9569 - val_loss: 0.2873 - val_acc: 0.8851\n",
      "Epoch 28/50\n",
      "15000/15000 [==============================] - 1s 90us/sample - loss: 0.1385 - acc: 0.9589 - val_loss: 0.2875 - val_acc: 0.8867\n",
      "Epoch 29/50\n",
      "15000/15000 [==============================] - 1s 89us/sample - loss: 0.1331 - acc: 0.9611 - val_loss: 0.2903 - val_acc: 0.8848\n",
      "Epoch 30/50\n",
      "15000/15000 [==============================] - 1s 77us/sample - loss: 0.1276 - acc: 0.9629 - val_loss: 0.2907 - val_acc: 0.8855\n",
      "Epoch 31/50\n",
      "15000/15000 [==============================] - 1s 81us/sample - loss: 0.1220 - acc: 0.9657 - val_loss: 0.2921 - val_acc: 0.8855\n",
      "Epoch 32/50\n",
      "15000/15000 [==============================] - 1s 98us/sample - loss: 0.1169 - acc: 0.9676 - val_loss: 0.2948 - val_acc: 0.8851\n",
      "Epoch 33/50\n",
      "15000/15000 [==============================] - 1s 89us/sample - loss: 0.1121 - acc: 0.9689 - val_loss: 0.2964 - val_acc: 0.8858\n",
      "Epoch 34/50\n",
      "15000/15000 [==============================] - 1s 87us/sample - loss: 0.1074 - acc: 0.9709 - val_loss: 0.2992 - val_acc: 0.8846\n",
      "Epoch 35/50\n",
      "15000/15000 [==============================] - 1s 98us/sample - loss: 0.1032 - acc: 0.9720 - val_loss: 0.3017 - val_acc: 0.8839\n",
      "Epoch 36/50\n",
      "15000/15000 [==============================] - 2s 114us/sample - loss: 0.0993 - acc: 0.9739 - val_loss: 0.3051 - val_acc: 0.8837\n",
      "Epoch 37/50\n",
      "15000/15000 [==============================] - 2s 101us/sample - loss: 0.0954 - acc: 0.9747 - val_loss: 0.3084 - val_acc: 0.8829\n",
      "Epoch 38/50\n",
      "15000/15000 [==============================] - 1s 81us/sample - loss: 0.0913 - acc: 0.9769 - val_loss: 0.3133 - val_acc: 0.8799\n",
      "Epoch 39/50\n",
      "15000/15000 [==============================] - 1s 78us/sample - loss: 0.0877 - acc: 0.9780 - val_loss: 0.3156 - val_acc: 0.8818\n",
      "Epoch 40/50\n",
      "15000/15000 [==============================] - 1s 78us/sample - loss: 0.0839 - acc: 0.9790 - val_loss: 0.3208 - val_acc: 0.8798\n",
      "Epoch 41/50\n",
      "15000/15000 [==============================] - 1s 80us/sample - loss: 0.0807 - acc: 0.9808 - val_loss: 0.3231 - val_acc: 0.8810\n",
      "Epoch 42/50\n",
      "15000/15000 [==============================] - 1s 81us/sample - loss: 0.0775 - acc: 0.9803 - val_loss: 0.3273 - val_acc: 0.8800\n",
      "Epoch 43/50\n",
      "15000/15000 [==============================] - 1s 86us/sample - loss: 0.0743 - acc: 0.9821 - val_loss: 0.3310 - val_acc: 0.8789\n",
      "Epoch 44/50\n",
      "15000/15000 [==============================] - 1s 77us/sample - loss: 0.0712 - acc: 0.9841 - val_loss: 0.3361 - val_acc: 0.8791\n",
      "Epoch 45/50\n",
      "15000/15000 [==============================] - 1s 76us/sample - loss: 0.0681 - acc: 0.9856 - val_loss: 0.3404 - val_acc: 0.8785\n",
      "Epoch 46/50\n",
      "15000/15000 [==============================] - 1s 77us/sample - loss: 0.0653 - acc: 0.9863 - val_loss: 0.3450 - val_acc: 0.8794\n",
      "Epoch 47/50\n",
      "15000/15000 [==============================] - 1s 90us/sample - loss: 0.0625 - acc: 0.9869 - val_loss: 0.3497 - val_acc: 0.8772\n",
      "Epoch 48/50\n",
      "15000/15000 [==============================] - 1s 78us/sample - loss: 0.0599 - acc: 0.9873 - val_loss: 0.3547 - val_acc: 0.8783\n",
      "Epoch 49/50\n",
      "15000/15000 [==============================] - 1s 78us/sample - loss: 0.0581 - acc: 0.9881 - val_loss: 0.3606 - val_acc: 0.8781\n",
      "Epoch 50/50\n",
      "15000/15000 [==============================] - 1s 78us/sample - loss: 0.0552 - acc: 0.9899 - val_loss: 0.3652 - val_acc: 0.8758\n",
      "Training took 66.47574710845947 seconds\n"
     ]
    }
   ],
   "source": [
    "#Making the bacthes for training data (10,000)\n",
    "x_val = train_data[:10000]\n",
    "partial_x_train = train_data[10000:]\n",
    "\n",
    "y_val = train_labels[:10000]\n",
    "partial_y_train = train_labels[10000:]\n",
    "\n",
    "#Main part - Starting the training. This is were the differnce in my CPU and Keshav's GPU was visible clearly. Detailed discussion in the report.\n",
    "start_time=time.time()\n",
    "\n",
    "# The training starts...\n",
    "history = model.fit(partial_x_train,partial_y_train,epochs=50,batch_size=512,validation_data=(x_val, y_val),verbose=1)\n",
    "print('Training took {} seconds'.format(time.time()-start_time))"
   ]
  },
  {
   "cell_type": "code",
   "execution_count": 14,
   "metadata": {
    "scrolled": true
   },
   "outputs": [],
   "source": [
    "#Saving the trained model, for using in the 2nd file\n",
    "model.save(\"model.h5\")\n",
    "results = model.evaluate(test_data, test_labels, verbose=0)\n",
    "# model = tf.keras.models.load_model(\"model.h5\")"
   ]
  },
  {
   "cell_type": "code",
   "execution_count": 18,
   "metadata": {},
   "outputs": [],
   "source": [
    "\n",
    "history_dict = history.history\n",
    "history_dict.keys()\n",
    "\n",
    "# Directly taken from the website for visualisation\n",
    "acc = history_dict['acc']\n",
    "val_acc = history_dict['val_acc']\n",
    "loss = history_dict['loss']\n",
    "val_loss = history_dict['val_loss']\n",
    "\n",
    "epochs = range(1, len(acc) + 1)\n",
    "# plt.plot(epochs, loss, 'bo', label='Training loss')\n",
    "# plt.plot(epochs, val_loss, 'b', label='Validation loss')\n",
    "# plt.title('Training and validation loss')\n",
    "# plt.xlabel('Epochs')\n",
    "# plt.ylabel('Loss')\n",
    "# plt.legend()"
   ]
  },
  {
   "cell_type": "code",
   "execution_count": 19,
   "metadata": {},
   "outputs": [
    {
     "data": {
      "image/png": "[encoded data removed]",
      "text/plain": [
       "<Figure size 432x288 with 1 Axes>"
      ]
     },
     "metadata": {
      "needs_background": "light"
     },
     "output_type": "display_data"
    }
   ],
   "source": [
    "plt.plot(epochs, acc, 'bo', label='Training acc')\n",
    "plt.plot(epochs, val_acc, 'b', label='Validation acc')\n",
    "plt.title('Training and validation accuracy')\n",
    "plt.xlabel('Epochs')\n",
    "plt.ylabel('Accuracy')\n",
    "plt.legend()\n",
    "\n",
    "# Graph plotted for 50 EPOCHS.\n",
    "plt.show()"
   ]
  },
  {
   "cell_type": "code",
   "execution_count": 11,
   "metadata": {},
   "outputs": [
    {
     "data": {
      "text/plain": [
       "array([0, 1, 1, 0, 1], dtype=int64)"
      ]
     },
     "execution_count": 11,
     "metadata": {},
     "output_type": "execute_result"
    }
   ],
   "source": [
    "test_labels[:5]"
   ]
  },
  {
   "cell_type": "code",
   "execution_count": 19,
   "metadata": {},
   "outputs": [
    {
     "data": {
      "text/plain": [
       "array([[   1,  591,  202, ...,    0,    0,    0],\n",
       "       [   6,  176,    7, ...,  125,    4, 3077],\n",
       "       [  57, 4893,    5, ...,    9,   57,  975],\n",
       "       ...,\n",
       "       [   1,   13, 1408, ...,    0,    0,    0],\n",
       "       [   1,   11,  119, ...,    0,    0,    0],\n",
       "       [   1,    6,   52, ...,    0,    0,    0]])"
      ]
     },
     "execution_count": 19,
     "metadata": {},
     "output_type": "execute_result"
    }
   ],
   "source": [
    "test_data"
   ]
  },
  {
   "cell_type": "code",
   "execution_count": 30,
   "metadata": {},
   "outputs": [
    {
     "name": "stdout",
     "output_type": "stream",
     "text": [
      "<class 'numpy.ndarray'>\n",
      "<class 'numpy.ndarray'>\n",
      "<class 'numpy.ndarray'>\n",
      "<class 'numpy.ndarray'>\n",
      "\n",
      "(25000, 256)\n",
      "(256,)\n",
      "(256,)\n",
      "(256,)\n"
     ]
    }
   ],
   "source": [
    "print(type(test_data))\n",
    "for i in test_data[:3]:\n",
    "    print(type(i))\n",
    "print()\n",
    "print(test_data.shape)\n",
    "for i in test_data[:3]:\n",
    "    print(i.shape)"
   ]
  },
  {
   "cell_type": "code",
   "execution_count": 22,
   "metadata": {},
   "outputs": [],
   "source": [
    "results = model.predict(test_data[:10])"
   ]
  },
  {
   "cell_type": "code",
   "execution_count": 26,
   "metadata": {},
   "outputs": [
    {
     "data": {
      "text/plain": [
       "(25000, 256)"
      ]
     },
     "execution_count": 26,
     "metadata": {},
     "output_type": "execute_result"
    }
   ],
   "source": [
    "test_data.shape"
   ]
  },
  {
   "cell_type": "code",
   "execution_count": 21,
   "metadata": {},
   "outputs": [
    {
     "name": "stdout",
     "output_type": "stream",
     "text": [
      "<class 'numpy.ndarray'>\n",
      "<class 'numpy.ndarray'>\n",
      "<class 'numpy.ndarray'>\n",
      "<class 'numpy.ndarray'>\n",
      "<class 'numpy.ndarray'>\n"
     ]
    }
   ],
   "source": []
  },
  {
   "cell_type": "code",
   "execution_count": 23,
   "metadata": {},
   "outputs": [
    {
     "data": {
      "text/plain": [
       "array([[0.03301674],\n",
       "       [0.99991   ],\n",
       "       [0.6138225 ],\n",
       "       [0.847412  ],\n",
       "       [0.9985951 ],\n",
       "       [0.98039013],\n",
       "       [0.9422918 ],\n",
       "       [0.00419185],\n",
       "       [0.97596675],\n",
       "       [0.999977  ]], dtype=float32)"
      ]
     },
     "execution_count": 23,
     "metadata": {},
     "output_type": "execute_result"
    }
   ],
   "source": [
    "results"
   ]
  },
  {
   "cell_type": "code",
   "execution_count": 33,
   "metadata": {},
   "outputs": [],
   "source": [
    "test = \"pagal\"\n",
    "test = test.lower().split(\" \")\n",
    "data = []\n",
    "for i in range(len(test)):\n",
    "    t = word_index[test[i]]\n",
    "    data.append(t)\n",
    "length = len(test) \n",
    "while length<256:\n",
    "    data.append(0)\n",
    "    length+=1\n",
    "data = np.array(data)\n",
    "data = data.reshape(1,256)"
   ]
  },
  {
   "cell_type": "code",
   "execution_count": 35,
   "metadata": {},
   "outputs": [
    {
     "data": {
      "text/plain": [
       "array([[56990,     0,     0,     0,     0,     0,     0,     0,     0,\n",
       "            0,     0,     0,     0,     0,     0,     0,     0,     0,\n",
       "            0,     0,     0,     0,     0,     0,     0,     0,     0,\n",
       "            0,     0,     0,     0,     0,     0,     0,     0,     0,\n",
       "            0,     0,     0,     0,     0,     0,     0,     0,     0,\n",
       "            0,     0,     0,     0,     0,     0,     0,     0,     0,\n",
       "            0,     0,     0,     0,     0,     0,     0,     0,     0,\n",
       "            0,     0,     0,     0,     0,     0,     0,     0,     0,\n",
       "            0,     0,     0,     0,     0,     0,     0,     0,     0,\n",
       "            0,     0,     0,     0,     0,     0,     0,     0,     0,\n",
       "            0,     0,     0,     0,     0,     0,     0,     0,     0,\n",
       "            0,     0,     0,     0,     0,     0,     0,     0,     0,\n",
       "            0,     0,     0,     0,     0,     0,     0,     0,     0,\n",
       "            0,     0,     0,     0,     0,     0,     0,     0,     0,\n",
       "            0,     0,     0,     0,     0,     0,     0,     0,     0,\n",
       "            0,     0,     0,     0,     0,     0,     0,     0,     0,\n",
       "            0,     0,     0,     0,     0,     0,     0,     0,     0,\n",
       "            0,     0,     0,     0,     0,     0,     0,     0,     0,\n",
       "            0,     0,     0,     0,     0,     0,     0,     0,     0,\n",
       "            0,     0,     0,     0,     0,     0,     0,     0,     0,\n",
       "            0,     0,     0,     0,     0,     0,     0,     0,     0,\n",
       "            0,     0,     0,     0,     0,     0,     0,     0,     0,\n",
       "            0,     0,     0,     0,     0,     0,     0,     0,     0,\n",
       "            0,     0,     0,     0,     0,     0,     0,     0,     0,\n",
       "            0,     0,     0,     0,     0,     0,     0,     0,     0,\n",
       "            0,     0,     0,     0,     0,     0,     0,     0,     0,\n",
       "            0,     0,     0,     0,     0,     0,     0,     0,     0,\n",
       "            0,     0,     0,     0,     0,     0,     0,     0,     0,\n",
       "            0,     0,     0,     0]])"
      ]
     },
     "execution_count": 35,
     "metadata": {},
     "output_type": "execute_result"
    }
   ],
   "source": [
    "data"
   ]
  },
  {
   "cell_type": "code",
   "execution_count": 39,
   "metadata": {},
   "outputs": [
    {
     "data": {
      "text/plain": [
       "['the', 'movie', 'is', 'bad']"
      ]
     },
     "execution_count": 39,
     "metadata": {},
     "output_type": "execute_result"
    }
   ],
   "source": [
    "test"
   ]
  },
  {
   "cell_type": "code",
   "execution_count": 40,
   "metadata": {},
   "outputs": [
    {
     "data": {
      "text/plain": [
       "78"
      ]
     },
     "execution_count": 40,
     "metadata": {},
     "output_type": "execute_result"
    }
   ],
   "source": [
    "word_index[\"bad\"]"
   ]
  },
  {
   "cell_type": "code",
   "execution_count": 41,
   "metadata": {},
   "outputs": [
    {
     "data": {
      "text/plain": [
       "array([[   1,  591,  202, ...,    0,    0,    0],\n",
       "       [   6,  176,    7, ...,  125,    4, 3077],\n",
       "       [  57, 4893,    5, ...,    9,   57,  975],\n",
       "       ...,\n",
       "       [   1,   13, 1408, ...,    0,    0,    0],\n",
       "       [   1,   11,  119, ...,    0,    0,    0],\n",
       "       [   1,    6,   52, ...,    0,    0,    0]])"
      ]
     },
     "execution_count": 41,
     "metadata": {},
     "output_type": "execute_result"
    }
   ],
   "source": [
    "test_data"
   ]
  },
  {
   "cell_type": "code",
   "execution_count": 5,
   "metadata": {},
   "outputs": [
    {
     "data": {
      "text/plain": [
       "False"
      ]
     },
     "execution_count": 5,
     "metadata": {},
     "output_type": "execute_result"
    }
   ],
   "source": [
    "tf.test.is_gpu_available()"
   ]
  },
  {
   "cell_type": "code",
   "execution_count": 28,
   "metadata": {},
   "outputs": [],
   "source": [
    "tf.config.threading.set_inter_op_parallelism_threads(4)"
   ]
  }
 ],
 "metadata": {
  "kernelspec": {
   "display_name": "Python 3.6 (tensorflow)",
   "language": "python",
   "name": "tensorflow"
  },
  "language_info": {
   "codemirror_mode": {
    "name": "ipython",
    "version": 3
   },
   "file_extension": ".py",
   "mimetype": "text/x-python",
   "name": "python",
   "nbconvert_exporter": "python",
   "pygments_lexer": "ipython3",
   "version": "3.6.8"
  }
 },
 "nbformat": 4,
 "nbformat_minor": 2
}
